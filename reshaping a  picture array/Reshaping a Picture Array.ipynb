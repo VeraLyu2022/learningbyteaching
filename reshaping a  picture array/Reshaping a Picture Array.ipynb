{
 "cells": [
  {
   "cell_type": "markdown",
   "metadata": {},
   "source": [
    "# Reshaping a Picture Array"
   ]
  },
  {
   "cell_type": "markdown",
   "metadata": {},
   "source": [
    "Hey, I’m Vera! I’m on a journey to becoming a data scientist and I’m all about learning by teaching. \n",
    "\n",
    " I’m taking the \"Introduction to Data Science in Python\" course on Coursera. If you want to study and discuss the course with me, you can leave a message. \n",
    "\n",
    "You’re also more than welcome to learn with me, and don’t forget to drop a comment if you have any ideas or spot something I might’ve missed!\n",
    "\n",
    "Our topic today is reshaping a picture array with numpy. "
   ]
  },
  {
   "cell_type": "markdown",
   "metadata": {},
   "source": [
    "## Import Library"
   ]
  },
  {
   "cell_type": "code",
   "execution_count": 42,
   "metadata": {},
   "outputs": [],
   "source": [
    "import numpy as np\n",
    "from PIL import Image\n",
    "from IPython.display import display"
   ]
  },
  {
   "cell_type": "markdown",
   "metadata": {},
   "source": [
    "## What Is a Picture Array?"
   ]
  },
  {
   "cell_type": "markdown",
   "metadata": {},
   "source": [
    "##### A digital image is essentially a grid of pixels. Each pixel is represented by an array of values. For example, a grayscale image can be represented as a 2D array where each value corresponds to the pixel's intensity.(ChatGPT)"
   ]
  },
  {
   "cell_type": "code",
   "execution_count": 43,
   "metadata": {},
   "outputs": [],
   "source": [
    "image = Image.open('200*200image.jpg')\n",
    "#display(image)"
   ]
  },
  {
   "cell_type": "code",
   "execution_count": 44,
   "metadata": {},
   "outputs": [
    {
     "name": "stdout",
     "output_type": "stream",
     "text": [
      "(200, 200)\n"
     ]
    }
   ],
   "source": [
    "image_array = np.array(image)\n",
    "print(image_array.shape)\n",
    "#image_array"
   ]
  },
  {
   "cell_type": "markdown",
   "metadata": {},
   "source": [
    "## What is Reshaping?"
   ]
  },
  {
   "cell_type": "markdown",
   "metadata": {},
   "source": [
    "##### Reshaping an array means changing its dimensions while keeping the total number of elements the same. For instance, if you have an array with 12 elements, you can reshape it into a 2x6, 3x4, or 4x3 array, but not into a 2x5 array because the total number of elements would not match.(ChatGPT)"
   ]
  },
  {
   "cell_type": "markdown",
   "metadata": {},
   "source": [
    "## horizontal way"
   ]
  },
  {
   "cell_type": "code",
   "execution_count": 45,
   "metadata": {},
   "outputs": [
    {
     "name": "stdout",
     "output_type": "stream",
     "text": [
      "(100, 400)\n"
     ]
    }
   ],
   "source": [
    "#2d array shape: (200, 200)\n",
    "reshaped = np.reshape(image_array,(100, 400))\n",
    "print(reshaped.shape)\n",
    "#display(Image.fromarray(reshaped))"
   ]
  },
  {
   "cell_type": "markdown",
   "metadata": {},
   "source": [
    "#### Simple example"
   ]
  },
  {
   "cell_type": "code",
   "execution_count": 46,
   "metadata": {},
   "outputs": [],
   "source": [
    "example_array = np.array([[0, 1, 2, 3],\n",
    "                          [4, 5, 6, 7],\n",
    "                          [8, 9, 10, 11],\n",
    "                          [12, 13, 14, 15]])\n",
    "\n",
    "#example_array.shape"
   ]
  },
  {
   "cell_type": "code",
   "execution_count": 47,
   "metadata": {},
   "outputs": [
    {
     "name": "stdout",
     "output_type": "stream",
     "text": [
      "(2, 8)\n"
     ]
    }
   ],
   "source": [
    "example_reshape = example_array.reshape(2, 8)\n",
    "print(example_reshape.shape)\n",
    "#example_reshape"
   ]
  },
  {
   "cell_type": "markdown",
   "metadata": {},
   "source": [
    "## Vertical way"
   ]
  },
  {
   "cell_type": "code",
   "execution_count": 48,
   "metadata": {},
   "outputs": [
    {
     "name": "stdout",
     "output_type": "stream",
     "text": [
      "(400, 100)\n"
     ]
    }
   ],
   "source": [
    "reshaped2 = np.reshape(image_array,(400, 100))\n",
    "print(reshaped2.shape)\n",
    "#display(Image.fromarray(reshaped2))"
   ]
  },
  {
   "cell_type": "markdown",
   "metadata": {},
   "source": [
    "#### Simple example"
   ]
  },
  {
   "cell_type": "code",
   "execution_count": 49,
   "metadata": {},
   "outputs": [
    {
     "name": "stdout",
     "output_type": "stream",
     "text": [
      "(8, 2)\n"
     ]
    }
   ],
   "source": [
    "example_reshape2 = example_array.reshape(8, 2)\n",
    "print(example_reshape2.shape)\n",
    "#example_reshape2"
   ]
  }
 ],
 "metadata": {
  "kernelspec": {
   "display_name": "base",
   "language": "python",
   "name": "python3"
  },
  "language_info": {
   "codemirror_mode": {
    "name": "ipython",
    "version": 3
   },
   "file_extension": ".py",
   "mimetype": "text/x-python",
   "name": "python",
   "nbconvert_exporter": "python",
   "pygments_lexer": "ipython3",
   "version": "3.8.19"
  }
 },
 "nbformat": 4,
 "nbformat_minor": 2
}
